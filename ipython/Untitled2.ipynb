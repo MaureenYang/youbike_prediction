{
 "cells": [
  {
   "cell_type": "code",
   "execution_count": 5,
   "id": "f7e16fd6",
   "metadata": {},
   "outputs": [],
   "source": [
    "import pandas as pd\n",
    "import sys, os\n",
    "import re"
   ]
  },
  {
   "cell_type": "code",
   "execution_count": 3,
   "id": "be9e89ab",
   "metadata": {},
   "outputs": [
    {
     "ename": "NameError",
     "evalue": "name 'content' is not defined",
     "output_type": "error",
     "traceback": [
      "\u001b[1;31m---------------------------------------------------------------------------\u001b[0m",
      "\u001b[1;31mNameError\u001b[0m                                 Traceback (most recent call last)",
      "\u001b[1;32m~\\AppData\\Local\\Temp/ipykernel_16072/3703375150.py\u001b[0m in \u001b[0;36m<module>\u001b[1;34m\u001b[0m\n\u001b[1;32m----> 1\u001b[1;33m \u001b[1;32mfor\u001b[0m \u001b[0mt\u001b[0m \u001b[1;32min\u001b[0m \u001b[0mcontent\u001b[0m\u001b[1;33m[\u001b[0m\u001b[1;34m'0'\u001b[0m\u001b[1;33m]\u001b[0m\u001b[1;33m.\u001b[0m\u001b[0munique\u001b[0m\u001b[1;33m(\u001b[0m\u001b[1;33m)\u001b[0m\u001b[1;33m:\u001b[0m\u001b[1;33m\u001b[0m\u001b[1;33m\u001b[0m\u001b[0m\n\u001b[0m\u001b[0;32m      2\u001b[0m     \u001b[0mprint\u001b[0m\u001b[1;33m(\u001b[0m\u001b[0mt\u001b[0m\u001b[1;33m)\u001b[0m\u001b[1;33m\u001b[0m\u001b[1;33m\u001b[0m\u001b[0m\n\u001b[0;32m      3\u001b[0m     \u001b[0mprint\u001b[0m\u001b[1;33m(\u001b[0m\u001b[0mcontent\u001b[0m\u001b[1;33m[\u001b[0m\u001b[0mcontent\u001b[0m\u001b[1;33m[\u001b[0m\u001b[1;34m'0'\u001b[0m\u001b[1;33m]\u001b[0m \u001b[1;33m==\u001b[0m \u001b[0mt\u001b[0m\u001b[1;33m]\u001b[0m\u001b[1;33m[\u001b[0m\u001b[1;34m'1'\u001b[0m\u001b[1;33m]\u001b[0m\u001b[1;33m.\u001b[0m\u001b[0mmin\u001b[0m\u001b[1;33m(\u001b[0m\u001b[1;33m)\u001b[0m\u001b[1;33m)\u001b[0m\u001b[1;33m\u001b[0m\u001b[1;33m\u001b[0m\u001b[0m\n\u001b[0;32m      4\u001b[0m     \u001b[0mprint\u001b[0m\u001b[1;33m(\u001b[0m\u001b[0mcontent\u001b[0m\u001b[1;33m[\u001b[0m\u001b[0mcontent\u001b[0m\u001b[1;33m[\u001b[0m\u001b[1;34m'0'\u001b[0m\u001b[1;33m]\u001b[0m \u001b[1;33m==\u001b[0m \u001b[0mt\u001b[0m\u001b[1;33m]\u001b[0m\u001b[1;33m[\u001b[0m\u001b[1;34m'2'\u001b[0m\u001b[1;33m]\u001b[0m\u001b[1;33m.\u001b[0m\u001b[0mmax\u001b[0m\u001b[1;33m(\u001b[0m\u001b[1;33m)\u001b[0m\u001b[1;33m)\u001b[0m\u001b[1;33m\u001b[0m\u001b[1;33m\u001b[0m\u001b[0m\n",
      "\u001b[1;31mNameError\u001b[0m: name 'content' is not defined"
     ]
    }
   ],
   "source": [
    "for t in content['0'].unique():\n",
    "    print(t)\n",
    "    print(content[content['0'] == t]['1'].min())\n",
    "    print(content[content['0'] == t]['2'].max())"
   ]
  },
  {
   "cell_type": "code",
   "execution_count": 122,
   "id": "e481ed43",
   "metadata": {},
   "outputs": [],
   "source": [
    "filepath = \"D:/git/youbike_prediction/result/model_rmse_percentage.csv\"\n",
    "\n",
    "df = pd.read_csv(filepath)"
   ]
  },
  {
   "cell_type": "code",
   "execution_count": 123,
   "id": "b90d8bfe",
   "metadata": {},
   "outputs": [
    {
     "name": "stdout",
     "output_type": "stream",
     "text": [
      "    Unnamed: 0  result_lasso.csv  result_ridge.csv  result_rf.csv  \\\n",
      "0    y_sbi_001          0.062098          0.063059       0.063186   \n",
      "1    y_sbi_002          0.122644          0.123380       0.126710   \n",
      "2    y_sbi_003          0.120827          0.121267       0.123245   \n",
      "3    y_sbi_004          0.061612          0.061634       0.063089   \n",
      "4    y_sbi_005          0.117148          0.116673       0.118542   \n",
      "..         ...               ...               ...            ...   \n",
      "366  y_sbi_400          0.104232          0.105311       0.105964   \n",
      "367  y_sbi_401          0.120240          0.121025       0.121519   \n",
      "368  y_sbi_402          0.049869          0.049794       0.050933   \n",
      "369  y_sbi_403          0.129685          0.130674       0.129554   \n",
      "370  y_sbi_404          0.111958          0.110741       0.110585   \n",
      "\n",
      "     result_sarima.csv       avg  \n",
      "0             0.100067  0.000336  \n",
      "1             0.187445  0.122553  \n",
      "2             0.178637  0.119648  \n",
      "3             0.103495  0.060850  \n",
      "4             0.173843  0.115543  \n",
      "..                 ...       ...  \n",
      "366           0.157759  0.103510  \n",
      "367           0.179431  0.120060  \n",
      "368           0.077880  0.049685  \n",
      "369           0.183235  0.127840  \n",
      "370           0.167666  0.108364  \n",
      "\n",
      "[371 rows x 6 columns]\n"
     ]
    }
   ],
   "source": [
    "print(df)"
   ]
  },
  {
   "cell_type": "code",
   "execution_count": 124,
   "id": "b807a4c0",
   "metadata": {},
   "outputs": [],
   "source": [
    "df.index = df['Unnamed: 0'].apply(lambda x: int(re.findall('\\d+', x)[0]))"
   ]
  },
  {
   "cell_type": "code",
   "execution_count": 125,
   "id": "7c37457f",
   "metadata": {},
   "outputs": [
    {
     "name": "stderr",
     "output_type": "stream",
     "text": [
      "C:\\Users\\Maureen\\AppData\\Local\\Temp/ipykernel_15148/3698961737.py:1: FutureWarning: Dropping of nuisance columns in DataFrame reductions (with 'numeric_only=None') is deprecated; in a future version this will raise TypeError.  Select only valid columns before calling the reduction.\n",
      "  df.mean()\n"
     ]
    },
    {
     "data": {
      "text/plain": [
       "result_lasso.csv     0.097854\n",
       "result_ridge.csv     0.098015\n",
       "result_rf.csv        0.098980\n",
       "result_sarima.csv    0.150205\n",
       "avg                  0.096585\n",
       "dtype: float64"
      ]
     },
     "execution_count": 125,
     "metadata": {},
     "output_type": "execute_result"
    }
   ],
   "source": [
    "df.mean()"
   ]
  },
  {
   "cell_type": "code",
   "execution_count": 126,
   "id": "a77bed88",
   "metadata": {},
   "outputs": [],
   "source": [
    "small_sno = [39, 53, 69, 130, 172, 196, 205, 234, 239, 262, 264, 271, 280, 290, 295, 297, 300, 301, 320, 323, 324, 327, 330, 333, 334, 336, 340, 347, 348, 349, 354, 357, 372, 383, 388, 393, 395, 396, 402, 403]\n",
    "big_sno = [1, 4, 5, 6, 7, 8, 21, 26, 30, 36, 61, 82, 83, 88, 103, 115, 119, 121, 132, 134, 143, 148, 149, 162, 163, 165, 176, 186, 202, 210, 215, 288, 405]\n",
    "mid_sno = [2, 3, 9, 10, 11, 12, 13, 14, 16, 17, 18, 19, 22, 23, 24, 25, 27, 28, 29, 31, 32, 33, 34, 35, 37, 38, 40, 41, 42, 43, 44, 45, 46, 47, 48, 49, 50, 51, 52, 54, 55, 56, 57, 58, 59, 60, 62, 63, 64, 65, 66, 67, 68, 70, 71, 72, 73, 74, 75, 76, 77, 78, 79, 80, 81, 84, 85, 86, 87, 89, 90, 91, 92, 93, 94, 95, 96, 97, 98, 99, 100, 101, 102, 104, 105, 106, 107, 108, 109, 110, 111, 112, 113, 114, 116, 117, 118, 120, 122, 123, 124, 125, 126, 127, 128, 129, 131, 133, 135, 136, 137, 138, 139, 140, 141, 142, 144, 145, 146, 147, 150, 151, 152, 153, 154, 155, 156, 157, 158, 159, 161, 164, 166, 167, 168, 169, 170, 171, 173, 174, 175, 177, 178, 179, 180, 181, 182, 183, 184, 185, 187, 188, 189, 190, 191, 192, 193, 194, 195, 197, 201, 203, 204, 206, 207, 208, 209, 211, 212, 213, 214, 216, 217, 218, 219, 220, 221, 222, 223, 224, 225, 226, 227, 228, 229, 230, 231, 232, 233, 235, 236, 237, 238, 240, 241, 242, 243, 244, 245, 246, 247, 248, 249, 250, 251, 252, 253, 254, 255, 256, 257, 258, 259, 260, 261, 263, 265, 266, 267, 268, 269, 270, 272, 273, 274, 275, 276, 277, 278, 279, 281, 282, 283, 284, 285, 286, 287, 289, 291, 292, 293, 294, 296, 298, 299, 302, 303, 304, 305, 306, 307, 308, 309, 310, 311, 312, 313, 314, 315, 316, 317, 318, 319, 321, 322, 325, 326, 328, 329, 331, 332, 335, 337, 338, 339, 341, 342, 343, 344, 345, 346, 350, 351, 352, 353, 355, 356, 358, 359, 360, 361, 362, 363, 364, 365, 366, 367, 368, 369, 370, 371, 373, 374, 375, 376, 377, 378, 379, 380, 381, 382, 384, 385, 386, 387, 389, 390, 391, 392, 394, 397, 398, 399, 400, 401, 404]\n"
   ]
  },
  {
   "cell_type": "code",
   "execution_count": 127,
   "id": "00ed5ac8",
   "metadata": {},
   "outputs": [],
   "source": [
    "df = df.drop(['Unnamed: 0'], axis=1)"
   ]
  },
  {
   "cell_type": "code",
   "execution_count": 128,
   "id": "bcad3ab0",
   "metadata": {},
   "outputs": [
    {
     "data": {
      "text/html": [
       "<div>\n",
       "<style scoped>\n",
       "    .dataframe tbody tr th:only-of-type {\n",
       "        vertical-align: middle;\n",
       "    }\n",
       "\n",
       "    .dataframe tbody tr th {\n",
       "        vertical-align: top;\n",
       "    }\n",
       "\n",
       "    .dataframe thead th {\n",
       "        text-align: right;\n",
       "    }\n",
       "</style>\n",
       "<table border=\"1\" class=\"dataframe\">\n",
       "  <thead>\n",
       "    <tr style=\"text-align: right;\">\n",
       "      <th></th>\n",
       "      <th>result_lasso.csv</th>\n",
       "      <th>result_ridge.csv</th>\n",
       "      <th>result_rf.csv</th>\n",
       "      <th>result_sarima.csv</th>\n",
       "      <th>avg</th>\n",
       "    </tr>\n",
       "    <tr>\n",
       "      <th>Unnamed: 0</th>\n",
       "      <th></th>\n",
       "      <th></th>\n",
       "      <th></th>\n",
       "      <th></th>\n",
       "      <th></th>\n",
       "    </tr>\n",
       "  </thead>\n",
       "  <tbody>\n",
       "    <tr>\n",
       "      <th>1</th>\n",
       "      <td>0.062098</td>\n",
       "      <td>0.063059</td>\n",
       "      <td>0.063186</td>\n",
       "      <td>0.100067</td>\n",
       "      <td>0.000336</td>\n",
       "    </tr>\n",
       "    <tr>\n",
       "      <th>2</th>\n",
       "      <td>0.122644</td>\n",
       "      <td>0.123380</td>\n",
       "      <td>0.126710</td>\n",
       "      <td>0.187445</td>\n",
       "      <td>0.122553</td>\n",
       "    </tr>\n",
       "    <tr>\n",
       "      <th>3</th>\n",
       "      <td>0.120827</td>\n",
       "      <td>0.121267</td>\n",
       "      <td>0.123245</td>\n",
       "      <td>0.178637</td>\n",
       "      <td>0.119648</td>\n",
       "    </tr>\n",
       "    <tr>\n",
       "      <th>4</th>\n",
       "      <td>0.061612</td>\n",
       "      <td>0.061634</td>\n",
       "      <td>0.063089</td>\n",
       "      <td>0.103495</td>\n",
       "      <td>0.060850</td>\n",
       "    </tr>\n",
       "    <tr>\n",
       "      <th>5</th>\n",
       "      <td>0.117148</td>\n",
       "      <td>0.116673</td>\n",
       "      <td>0.118542</td>\n",
       "      <td>0.173843</td>\n",
       "      <td>0.115543</td>\n",
       "    </tr>\n",
       "    <tr>\n",
       "      <th>...</th>\n",
       "      <td>...</td>\n",
       "      <td>...</td>\n",
       "      <td>...</td>\n",
       "      <td>...</td>\n",
       "      <td>...</td>\n",
       "    </tr>\n",
       "    <tr>\n",
       "      <th>400</th>\n",
       "      <td>0.104232</td>\n",
       "      <td>0.105311</td>\n",
       "      <td>0.105964</td>\n",
       "      <td>0.157759</td>\n",
       "      <td>0.103510</td>\n",
       "    </tr>\n",
       "    <tr>\n",
       "      <th>401</th>\n",
       "      <td>0.120240</td>\n",
       "      <td>0.121025</td>\n",
       "      <td>0.121519</td>\n",
       "      <td>0.179431</td>\n",
       "      <td>0.120060</td>\n",
       "    </tr>\n",
       "    <tr>\n",
       "      <th>402</th>\n",
       "      <td>0.049869</td>\n",
       "      <td>0.049794</td>\n",
       "      <td>0.050933</td>\n",
       "      <td>0.077880</td>\n",
       "      <td>0.049685</td>\n",
       "    </tr>\n",
       "    <tr>\n",
       "      <th>403</th>\n",
       "      <td>0.129685</td>\n",
       "      <td>0.130674</td>\n",
       "      <td>0.129554</td>\n",
       "      <td>0.183235</td>\n",
       "      <td>0.127840</td>\n",
       "    </tr>\n",
       "    <tr>\n",
       "      <th>404</th>\n",
       "      <td>0.111958</td>\n",
       "      <td>0.110741</td>\n",
       "      <td>0.110585</td>\n",
       "      <td>0.167666</td>\n",
       "      <td>0.108364</td>\n",
       "    </tr>\n",
       "  </tbody>\n",
       "</table>\n",
       "<p>371 rows × 5 columns</p>\n",
       "</div>"
      ],
      "text/plain": [
       "            result_lasso.csv  result_ridge.csv  result_rf.csv  \\\n",
       "Unnamed: 0                                                      \n",
       "1                   0.062098          0.063059       0.063186   \n",
       "2                   0.122644          0.123380       0.126710   \n",
       "3                   0.120827          0.121267       0.123245   \n",
       "4                   0.061612          0.061634       0.063089   \n",
       "5                   0.117148          0.116673       0.118542   \n",
       "...                      ...               ...            ...   \n",
       "400                 0.104232          0.105311       0.105964   \n",
       "401                 0.120240          0.121025       0.121519   \n",
       "402                 0.049869          0.049794       0.050933   \n",
       "403                 0.129685          0.130674       0.129554   \n",
       "404                 0.111958          0.110741       0.110585   \n",
       "\n",
       "            result_sarima.csv       avg  \n",
       "Unnamed: 0                               \n",
       "1                    0.100067  0.000336  \n",
       "2                    0.187445  0.122553  \n",
       "3                    0.178637  0.119648  \n",
       "4                    0.103495  0.060850  \n",
       "5                    0.173843  0.115543  \n",
       "...                       ...       ...  \n",
       "400                  0.157759  0.103510  \n",
       "401                  0.179431  0.120060  \n",
       "402                  0.077880  0.049685  \n",
       "403                  0.183235  0.127840  \n",
       "404                  0.167666  0.108364  \n",
       "\n",
       "[371 rows x 5 columns]"
      ]
     },
     "execution_count": 128,
     "metadata": {},
     "output_type": "execute_result"
    }
   ],
   "source": [
    "df"
   ]
  },
  {
   "cell_type": "code",
   "execution_count": 129,
   "id": "4498d5da",
   "metadata": {},
   "outputs": [],
   "source": [
    "df = df.rename(columns={\"result_lasso.csv\": \"lasso\", \"result_ridge.csv\": \"ridge\", \"result_rf.csv\": \"rf\", \"result_sarima.csv\":\"arima\", \"avg\":\"avg\"})"
   ]
  },
  {
   "cell_type": "code",
   "execution_count": 37,
   "id": "cb27c898",
   "metadata": {},
   "outputs": [
    {
     "data": {
      "text/plain": [
       "lasso    0.111112\n",
       "ridge    0.111291\n",
       "rf       0.111830\n",
       "arima    0.166328\n",
       "avg      0.109851\n",
       "dtype: float64"
      ]
     },
     "execution_count": 37,
     "metadata": {},
     "output_type": "execute_result"
    }
   ],
   "source": [
    "df[df.index.isin(small_sno)].mean()"
   ]
  },
  {
   "cell_type": "code",
   "execution_count": 40,
   "id": "09938b99",
   "metadata": {},
   "outputs": [
    {
     "data": {
      "text/plain": [
       "lasso    0.084973\n",
       "ridge    0.085313\n",
       "rf       0.086357\n",
       "arima    0.135018\n",
       "avg      0.083842\n",
       "dtype: float64"
      ]
     },
     "execution_count": 40,
     "metadata": {},
     "output_type": "execute_result"
    }
   ],
   "source": [
    "df[df.index.isin(big_sno)].mean()"
   ]
  },
  {
   "cell_type": "code",
   "execution_count": 41,
   "id": "db9bf321",
   "metadata": {},
   "outputs": [
    {
     "data": {
      "text/plain": [
       "lasso    0.097480\n",
       "ridge    0.097618\n",
       "rf       0.098622\n",
       "arima    0.149611\n",
       "avg      0.096395\n",
       "dtype: float64"
      ]
     },
     "execution_count": 41,
     "metadata": {},
     "output_type": "execute_result"
    }
   ],
   "source": [
    "df[df.index.isin(mid_sno)].mean()"
   ]
  },
  {
   "cell_type": "code",
   "execution_count": 45,
   "id": "51107465",
   "metadata": {},
   "outputs": [],
   "source": [
    "lost_sno = (set(range(1,406)) - set(df.index))"
   ]
  },
  {
   "cell_type": "code",
   "execution_count": 43,
   "id": "f1d7c434",
   "metadata": {},
   "outputs": [],
   "source": [
    "ignore_list = [15, 20, 160, 198, 199, 200] # no station\n",
    "ignore_list2 = [28, 47, 58, 69, 99, 101 ,106, 124 ,153 , 168, 174 ,185 ,190 ,229,237 ,239,240 ,264 ,306 ,311 ,313,330,346,378,382,383,387]\n",
    "ignore_list3 = [31,79,95,124,170,174,237,390]"
   ]
  },
  {
   "cell_type": "code",
   "execution_count": 48,
   "id": "b170af43",
   "metadata": {},
   "outputs": [
    {
     "data": {
      "text/plain": [
       "{28,\n",
       " 47,\n",
       " 58,\n",
       " 69,\n",
       " 99,\n",
       " 101,\n",
       " 106,\n",
       " 153,\n",
       " 168,\n",
       " 185,\n",
       " 190,\n",
       " 229,\n",
       " 239,\n",
       " 240,\n",
       " 264,\n",
       " 306,\n",
       " 311,\n",
       " 313,\n",
       " 330,\n",
       " 346,\n",
       " 378,\n",
       " 382,\n",
       " 383,\n",
       " 387,\n",
       " 405}"
      ]
     },
     "execution_count": 48,
     "metadata": {},
     "output_type": "execute_result"
    }
   ],
   "source": [
    "lost_sno - set(ignore_list) - set(ignore_list3)"
   ]
  },
  {
   "cell_type": "code",
   "execution_count": 52,
   "id": "d2eb5904",
   "metadata": {},
   "outputs": [
    {
     "data": {
      "text/plain": [
       "Unnamed: 0\n",
       "31    NaN\n",
       "79    NaN\n",
       "95    NaN\n",
       "170   NaN\n",
       "390   NaN\n",
       "Name: arima, dtype: float64"
      ]
     },
     "execution_count": 52,
     "metadata": {},
     "output_type": "execute_result"
    }
   ],
   "source": [
    "df['arima'][df['arima'].isna()]"
   ]
  },
  {
   "cell_type": "code",
   "execution_count": 56,
   "id": "5045a927",
   "metadata": {},
   "outputs": [
    {
     "data": {
      "text/plain": [
       "Series([], Name: lasso, dtype: float64)"
      ]
     },
     "execution_count": 56,
     "metadata": {},
     "output_type": "execute_result"
    }
   ],
   "source": [
    "df['lasso'][df['lasso'].isna()]"
   ]
  },
  {
   "cell_type": "code",
   "execution_count": 60,
   "id": "abfbcd41",
   "metadata": {},
   "outputs": [
    {
     "data": {
      "text/plain": [
       "count    371.000000\n",
       "mean       0.097846\n",
       "std        0.023289\n",
       "min        0.000350\n",
       "25%        0.081852\n",
       "50%        0.099526\n",
       "75%        0.115189\n",
       "max        0.156427\n",
       "Name: ridge, dtype: float64"
      ]
     },
     "execution_count": 60,
     "metadata": {},
     "output_type": "execute_result"
    }
   ],
   "source": [
    "df['ridge'].describe()"
   ]
  },
  {
   "cell_type": "code",
   "execution_count": 59,
   "id": "7b88540a",
   "metadata": {},
   "outputs": [
    {
     "data": {
      "text/plain": [
       "Unnamed: 0\n",
       "1    0.00035\n",
       "Name: ridge, dtype: float64"
      ]
     },
     "execution_count": 59,
     "metadata": {},
     "output_type": "execute_result"
    }
   ],
   "source": [
    "df['ridge'][df['ridge'] < 0.01]"
   ]
  },
  {
   "cell_type": "code",
   "execution_count": 130,
   "id": "23116ccc",
   "metadata": {},
   "outputs": [],
   "source": [
    "filepath = \"D:/git/youbike_prediction/result/statistic_csv/ha_ma_result_0701_finale.csv\"\n",
    "\n",
    "ma_df = pd.read_csv(filepath)"
   ]
  },
  {
   "cell_type": "code",
   "execution_count": 131,
   "id": "c2fdf925",
   "metadata": {},
   "outputs": [],
   "source": [
    "ma_df = ma_df.set_index('sno')"
   ]
  },
  {
   "cell_type": "code",
   "execution_count": 132,
   "id": "a749240d",
   "metadata": {},
   "outputs": [],
   "source": [
    "ma_df = ma_df.drop(['Unnamed: 0','ha_spendtime','ma_spendtime'],axis=1)"
   ]
  },
  {
   "cell_type": "code",
   "execution_count": 133,
   "id": "929aede7",
   "metadata": {},
   "outputs": [
    {
     "data": {
      "text/html": [
       "<div>\n",
       "<style scoped>\n",
       "    .dataframe tbody tr th:only-of-type {\n",
       "        vertical-align: middle;\n",
       "    }\n",
       "\n",
       "    .dataframe tbody tr th {\n",
       "        vertical-align: top;\n",
       "    }\n",
       "\n",
       "    .dataframe thead th {\n",
       "        text-align: right;\n",
       "    }\n",
       "</style>\n",
       "<table border=\"1\" class=\"dataframe\">\n",
       "  <thead>\n",
       "    <tr style=\"text-align: right;\">\n",
       "      <th></th>\n",
       "      <th>ha_rmse</th>\n",
       "      <th>ma_rmse_12</th>\n",
       "      <th>ma_rmse_3</th>\n",
       "      <th>ma_rmse_6</th>\n",
       "    </tr>\n",
       "    <tr>\n",
       "      <th>sno</th>\n",
       "      <th></th>\n",
       "      <th></th>\n",
       "      <th></th>\n",
       "      <th></th>\n",
       "    </tr>\n",
       "  </thead>\n",
       "  <tbody>\n",
       "    <tr>\n",
       "      <th>1.0</th>\n",
       "      <td>39.089254</td>\n",
       "      <td>28.571178</td>\n",
       "      <td>18.775191</td>\n",
       "      <td>24.400148</td>\n",
       "    </tr>\n",
       "    <tr>\n",
       "      <th>2.0</th>\n",
       "      <td>9.783817</td>\n",
       "      <td>9.492183</td>\n",
       "      <td>8.387407</td>\n",
       "      <td>9.348807</td>\n",
       "    </tr>\n",
       "    <tr>\n",
       "      <th>3.0</th>\n",
       "      <td>8.619430</td>\n",
       "      <td>9.514970</td>\n",
       "      <td>6.617114</td>\n",
       "      <td>7.892941</td>\n",
       "    </tr>\n",
       "    <tr>\n",
       "      <th>4.0</th>\n",
       "      <td>11.617952</td>\n",
       "      <td>10.144689</td>\n",
       "      <td>5.985470</td>\n",
       "      <td>7.919635</td>\n",
       "    </tr>\n",
       "    <tr>\n",
       "      <th>5.0</th>\n",
       "      <td>12.480313</td>\n",
       "      <td>13.622601</td>\n",
       "      <td>9.848964</td>\n",
       "      <td>11.585463</td>\n",
       "    </tr>\n",
       "    <tr>\n",
       "      <th>...</th>\n",
       "      <td>...</td>\n",
       "      <td>...</td>\n",
       "      <td>...</td>\n",
       "      <td>...</td>\n",
       "    </tr>\n",
       "    <tr>\n",
       "      <th>400.0</th>\n",
       "      <td>6.941969</td>\n",
       "      <td>5.932021</td>\n",
       "      <td>4.631946</td>\n",
       "      <td>5.277658</td>\n",
       "    </tr>\n",
       "    <tr>\n",
       "      <th>401.0</th>\n",
       "      <td>7.061859</td>\n",
       "      <td>7.193016</td>\n",
       "      <td>5.449025</td>\n",
       "      <td>6.296396</td>\n",
       "    </tr>\n",
       "    <tr>\n",
       "      <th>402.0</th>\n",
       "      <td>3.458005</td>\n",
       "      <td>3.056030</td>\n",
       "      <td>1.985657</td>\n",
       "      <td>2.489248</td>\n",
       "    </tr>\n",
       "    <tr>\n",
       "      <th>403.0</th>\n",
       "      <td>5.265432</td>\n",
       "      <td>5.627632</td>\n",
       "      <td>4.712600</td>\n",
       "      <td>5.127641</td>\n",
       "    </tr>\n",
       "    <tr>\n",
       "      <th>404.0</th>\n",
       "      <td>6.906611</td>\n",
       "      <td>7.740119</td>\n",
       "      <td>4.942271</td>\n",
       "      <td>6.242258</td>\n",
       "    </tr>\n",
       "  </tbody>\n",
       "</table>\n",
       "<p>377 rows × 4 columns</p>\n",
       "</div>"
      ],
      "text/plain": [
       "         ha_rmse  ma_rmse_12  ma_rmse_3  ma_rmse_6\n",
       "sno                                               \n",
       "1.0    39.089254   28.571178  18.775191  24.400148\n",
       "2.0     9.783817    9.492183   8.387407   9.348807\n",
       "3.0     8.619430    9.514970   6.617114   7.892941\n",
       "4.0    11.617952   10.144689   5.985470   7.919635\n",
       "5.0    12.480313   13.622601   9.848964  11.585463\n",
       "...          ...         ...        ...        ...\n",
       "400.0   6.941969    5.932021   4.631946   5.277658\n",
       "401.0   7.061859    7.193016   5.449025   6.296396\n",
       "402.0   3.458005    3.056030   1.985657   2.489248\n",
       "403.0   5.265432    5.627632   4.712600   5.127641\n",
       "404.0   6.906611    7.740119   4.942271   6.242258\n",
       "\n",
       "[377 rows x 4 columns]"
      ]
     },
     "execution_count": 133,
     "metadata": {},
     "output_type": "execute_result"
    }
   ],
   "source": [
    "ma_df"
   ]
  },
  {
   "cell_type": "code",
   "execution_count": 134,
   "id": "9b959216",
   "metadata": {},
   "outputs": [],
   "source": [
    "df.index.names = ['sno']"
   ]
  },
  {
   "cell_type": "code",
   "execution_count": 135,
   "id": "e447b9e9",
   "metadata": {},
   "outputs": [],
   "source": [
    "new_df = df.join(ma_df, on='sno')"
   ]
  },
  {
   "cell_type": "code",
   "execution_count": 136,
   "id": "5460b52f",
   "metadata": {},
   "outputs": [],
   "source": [
    "new_df=new_df.drop(['avg'],axis=1)"
   ]
  },
  {
   "cell_type": "code",
   "execution_count": 137,
   "id": "7ec34c05",
   "metadata": {},
   "outputs": [
    {
     "data": {
      "text/html": [
       "<div>\n",
       "<style scoped>\n",
       "    .dataframe tbody tr th:only-of-type {\n",
       "        vertical-align: middle;\n",
       "    }\n",
       "\n",
       "    .dataframe tbody tr th {\n",
       "        vertical-align: top;\n",
       "    }\n",
       "\n",
       "    .dataframe thead th {\n",
       "        text-align: right;\n",
       "    }\n",
       "</style>\n",
       "<table border=\"1\" class=\"dataframe\">\n",
       "  <thead>\n",
       "    <tr style=\"text-align: right;\">\n",
       "      <th></th>\n",
       "      <th>ha_rmse</th>\n",
       "      <th>ma_rmse_12</th>\n",
       "      <th>ma_rmse_3</th>\n",
       "      <th>ma_rmse_6</th>\n",
       "    </tr>\n",
       "    <tr>\n",
       "      <th>sno</th>\n",
       "      <th></th>\n",
       "      <th></th>\n",
       "      <th></th>\n",
       "      <th></th>\n",
       "    </tr>\n",
       "  </thead>\n",
       "  <tbody>\n",
       "    <tr>\n",
       "      <th>1.0</th>\n",
       "      <td>39.089254</td>\n",
       "      <td>28.571178</td>\n",
       "      <td>18.775191</td>\n",
       "      <td>24.400148</td>\n",
       "    </tr>\n",
       "    <tr>\n",
       "      <th>2.0</th>\n",
       "      <td>9.783817</td>\n",
       "      <td>9.492183</td>\n",
       "      <td>8.387407</td>\n",
       "      <td>9.348807</td>\n",
       "    </tr>\n",
       "    <tr>\n",
       "      <th>3.0</th>\n",
       "      <td>8.619430</td>\n",
       "      <td>9.514970</td>\n",
       "      <td>6.617114</td>\n",
       "      <td>7.892941</td>\n",
       "    </tr>\n",
       "    <tr>\n",
       "      <th>4.0</th>\n",
       "      <td>11.617952</td>\n",
       "      <td>10.144689</td>\n",
       "      <td>5.985470</td>\n",
       "      <td>7.919635</td>\n",
       "    </tr>\n",
       "    <tr>\n",
       "      <th>5.0</th>\n",
       "      <td>12.480313</td>\n",
       "      <td>13.622601</td>\n",
       "      <td>9.848964</td>\n",
       "      <td>11.585463</td>\n",
       "    </tr>\n",
       "    <tr>\n",
       "      <th>...</th>\n",
       "      <td>...</td>\n",
       "      <td>...</td>\n",
       "      <td>...</td>\n",
       "      <td>...</td>\n",
       "    </tr>\n",
       "    <tr>\n",
       "      <th>400.0</th>\n",
       "      <td>6.941969</td>\n",
       "      <td>5.932021</td>\n",
       "      <td>4.631946</td>\n",
       "      <td>5.277658</td>\n",
       "    </tr>\n",
       "    <tr>\n",
       "      <th>401.0</th>\n",
       "      <td>7.061859</td>\n",
       "      <td>7.193016</td>\n",
       "      <td>5.449025</td>\n",
       "      <td>6.296396</td>\n",
       "    </tr>\n",
       "    <tr>\n",
       "      <th>402.0</th>\n",
       "      <td>3.458005</td>\n",
       "      <td>3.056030</td>\n",
       "      <td>1.985657</td>\n",
       "      <td>2.489248</td>\n",
       "    </tr>\n",
       "    <tr>\n",
       "      <th>403.0</th>\n",
       "      <td>5.265432</td>\n",
       "      <td>5.627632</td>\n",
       "      <td>4.712600</td>\n",
       "      <td>5.127641</td>\n",
       "    </tr>\n",
       "    <tr>\n",
       "      <th>404.0</th>\n",
       "      <td>6.906611</td>\n",
       "      <td>7.740119</td>\n",
       "      <td>4.942271</td>\n",
       "      <td>6.242258</td>\n",
       "    </tr>\n",
       "  </tbody>\n",
       "</table>\n",
       "<p>377 rows × 4 columns</p>\n",
       "</div>"
      ],
      "text/plain": [
       "         ha_rmse  ma_rmse_12  ma_rmse_3  ma_rmse_6\n",
       "sno                                               \n",
       "1.0    39.089254   28.571178  18.775191  24.400148\n",
       "2.0     9.783817    9.492183   8.387407   9.348807\n",
       "3.0     8.619430    9.514970   6.617114   7.892941\n",
       "4.0    11.617952   10.144689   5.985470   7.919635\n",
       "5.0    12.480313   13.622601   9.848964  11.585463\n",
       "...          ...         ...        ...        ...\n",
       "400.0   6.941969    5.932021   4.631946   5.277658\n",
       "401.0   7.061859    7.193016   5.449025   6.296396\n",
       "402.0   3.458005    3.056030   1.985657   2.489248\n",
       "403.0   5.265432    5.627632   4.712600   5.127641\n",
       "404.0   6.906611    7.740119   4.942271   6.242258\n",
       "\n",
       "[377 rows x 4 columns]"
      ]
     },
     "execution_count": 137,
     "metadata": {},
     "output_type": "execute_result"
    }
   ],
   "source": [
    "ma_df"
   ]
  },
  {
   "cell_type": "code",
   "execution_count": 138,
   "id": "1775c1bd",
   "metadata": {},
   "outputs": [],
   "source": [
    "tot_df = pd.read_csv(\"D:/git/youbike_prediction/data/youbike_station_info.csv\")"
   ]
  },
  {
   "cell_type": "code",
   "execution_count": 139,
   "id": "d60e93a3",
   "metadata": {},
   "outputs": [],
   "source": [
    "tot_df = tot_df[['sno','tot']]"
   ]
  },
  {
   "cell_type": "code",
   "execution_count": 140,
   "id": "c6faf168",
   "metadata": {},
   "outputs": [],
   "source": [
    "tot_df = tot_df.set_index(['sno'])"
   ]
  },
  {
   "cell_type": "code",
   "execution_count": 141,
   "id": "7039427a",
   "metadata": {},
   "outputs": [],
   "source": [
    "ma_df = ma_df.join(tot_df, on='sno')"
   ]
  },
  {
   "cell_type": "code",
   "execution_count": 142,
   "id": "daee5d55",
   "metadata": {},
   "outputs": [],
   "source": [
    "ma_df_avg = ma_df.apply(lambda x: x/tot_df.tot)"
   ]
  },
  {
   "cell_type": "code",
   "execution_count": 143,
   "id": "e6be503c",
   "metadata": {},
   "outputs": [
    {
     "data": {
      "text/html": [
       "<div>\n",
       "<style scoped>\n",
       "    .dataframe tbody tr th:only-of-type {\n",
       "        vertical-align: middle;\n",
       "    }\n",
       "\n",
       "    .dataframe tbody tr th {\n",
       "        vertical-align: top;\n",
       "    }\n",
       "\n",
       "    .dataframe thead th {\n",
       "        text-align: right;\n",
       "    }\n",
       "</style>\n",
       "<table border=\"1\" class=\"dataframe\">\n",
       "  <thead>\n",
       "    <tr style=\"text-align: right;\">\n",
       "      <th></th>\n",
       "      <th>ha_rmse</th>\n",
       "      <th>ma_rmse_12</th>\n",
       "      <th>ma_rmse_3</th>\n",
       "      <th>ma_rmse_6</th>\n",
       "      <th>tot</th>\n",
       "    </tr>\n",
       "    <tr>\n",
       "      <th>sno</th>\n",
       "      <th></th>\n",
       "      <th></th>\n",
       "      <th></th>\n",
       "      <th></th>\n",
       "      <th></th>\n",
       "    </tr>\n",
       "  </thead>\n",
       "  <tbody>\n",
       "    <tr>\n",
       "      <th>1.0</th>\n",
       "      <td>0.217163</td>\n",
       "      <td>0.158729</td>\n",
       "      <td>0.104307</td>\n",
       "      <td>0.135556</td>\n",
       "      <td>1.0</td>\n",
       "    </tr>\n",
       "    <tr>\n",
       "      <th>2.0</th>\n",
       "      <td>0.203830</td>\n",
       "      <td>0.197754</td>\n",
       "      <td>0.174738</td>\n",
       "      <td>0.194767</td>\n",
       "      <td>1.0</td>\n",
       "    </tr>\n",
       "    <tr>\n",
       "      <th>3.0</th>\n",
       "      <td>0.215486</td>\n",
       "      <td>0.237874</td>\n",
       "      <td>0.165428</td>\n",
       "      <td>0.197324</td>\n",
       "      <td>1.0</td>\n",
       "    </tr>\n",
       "    <tr>\n",
       "      <th>4.0</th>\n",
       "      <td>0.193633</td>\n",
       "      <td>0.169078</td>\n",
       "      <td>0.099758</td>\n",
       "      <td>0.131994</td>\n",
       "      <td>1.0</td>\n",
       "    </tr>\n",
       "    <tr>\n",
       "      <th>5.0</th>\n",
       "      <td>0.208005</td>\n",
       "      <td>0.227043</td>\n",
       "      <td>0.164149</td>\n",
       "      <td>0.193091</td>\n",
       "      <td>1.0</td>\n",
       "    </tr>\n",
       "    <tr>\n",
       "      <th>...</th>\n",
       "      <td>...</td>\n",
       "      <td>...</td>\n",
       "      <td>...</td>\n",
       "      <td>...</td>\n",
       "      <td>...</td>\n",
       "    </tr>\n",
       "    <tr>\n",
       "      <th>401.0</th>\n",
       "      <td>0.207702</td>\n",
       "      <td>0.211559</td>\n",
       "      <td>0.160265</td>\n",
       "      <td>0.185188</td>\n",
       "      <td>1.0</td>\n",
       "    </tr>\n",
       "    <tr>\n",
       "      <th>402.0</th>\n",
       "      <td>0.123500</td>\n",
       "      <td>0.109144</td>\n",
       "      <td>0.070916</td>\n",
       "      <td>0.088902</td>\n",
       "      <td>1.0</td>\n",
       "    </tr>\n",
       "    <tr>\n",
       "      <th>403.0</th>\n",
       "      <td>0.188051</td>\n",
       "      <td>0.200987</td>\n",
       "      <td>0.168307</td>\n",
       "      <td>0.183130</td>\n",
       "      <td>1.0</td>\n",
       "    </tr>\n",
       "    <tr>\n",
       "      <th>404.0</th>\n",
       "      <td>0.230220</td>\n",
       "      <td>0.258004</td>\n",
       "      <td>0.164742</td>\n",
       "      <td>0.208075</td>\n",
       "      <td>1.0</td>\n",
       "    </tr>\n",
       "    <tr>\n",
       "      <th>405.0</th>\n",
       "      <td>NaN</td>\n",
       "      <td>NaN</td>\n",
       "      <td>NaN</td>\n",
       "      <td>NaN</td>\n",
       "      <td>NaN</td>\n",
       "    </tr>\n",
       "  </tbody>\n",
       "</table>\n",
       "<p>399 rows × 5 columns</p>\n",
       "</div>"
      ],
      "text/plain": [
       "        ha_rmse  ma_rmse_12  ma_rmse_3  ma_rmse_6  tot\n",
       "sno                                                   \n",
       "1.0    0.217163    0.158729   0.104307   0.135556  1.0\n",
       "2.0    0.203830    0.197754   0.174738   0.194767  1.0\n",
       "3.0    0.215486    0.237874   0.165428   0.197324  1.0\n",
       "4.0    0.193633    0.169078   0.099758   0.131994  1.0\n",
       "5.0    0.208005    0.227043   0.164149   0.193091  1.0\n",
       "...         ...         ...        ...        ...  ...\n",
       "401.0  0.207702    0.211559   0.160265   0.185188  1.0\n",
       "402.0  0.123500    0.109144   0.070916   0.088902  1.0\n",
       "403.0  0.188051    0.200987   0.168307   0.183130  1.0\n",
       "404.0  0.230220    0.258004   0.164742   0.208075  1.0\n",
       "405.0       NaN         NaN        NaN        NaN  NaN\n",
       "\n",
       "[399 rows x 5 columns]"
      ]
     },
     "execution_count": 143,
     "metadata": {},
     "output_type": "execute_result"
    }
   ],
   "source": [
    "ma_df_avg"
   ]
  },
  {
   "cell_type": "code",
   "execution_count": 144,
   "id": "dd1978f0",
   "metadata": {},
   "outputs": [],
   "source": [
    "new_df = df.join(ma_df_avg, on='sno')"
   ]
  },
  {
   "cell_type": "code",
   "execution_count": 145,
   "id": "d9fb6c65",
   "metadata": {},
   "outputs": [],
   "source": [
    "new_df = new_df.drop(['avg'],axis=1)\n",
    "new_df.to_csv(\"final_result_rmse_percentage.csv\")"
   ]
  },
  {
   "cell_type": "code",
   "execution_count": 146,
   "id": "bb275aa6",
   "metadata": {},
   "outputs": [
    {
     "data": {
      "text/plain": [
       "lasso         0.111112\n",
       "ridge         0.111291\n",
       "rf            0.111830\n",
       "arima         0.166328\n",
       "ha_rmse       0.203835\n",
       "ma_rmse_12    0.206044\n",
       "ma_rmse_3     0.151929\n",
       "ma_rmse_6     0.177529\n",
       "tot           1.000000\n",
       "dtype: float64"
      ]
     },
     "execution_count": 146,
     "metadata": {},
     "output_type": "execute_result"
    }
   ],
   "source": [
    "new_df[new_df.index.isin(small_sno)].mean()"
   ]
  },
  {
   "cell_type": "code",
   "execution_count": 147,
   "id": "a817d279",
   "metadata": {},
   "outputs": [
    {
     "data": {
      "text/plain": [
       "lasso         0.097480\n",
       "ridge         0.097618\n",
       "rf            0.098622\n",
       "arima         0.149611\n",
       "ha_rmse       0.198346\n",
       "ma_rmse_12    0.196604\n",
       "ma_rmse_3     0.139701\n",
       "ma_rmse_6     0.166913\n",
       "tot           1.000000\n",
       "dtype: float64"
      ]
     },
     "execution_count": 147,
     "metadata": {},
     "output_type": "execute_result"
    }
   ],
   "source": [
    "new_df[new_df.index.isin(mid_sno)].mean()"
   ]
  },
  {
   "cell_type": "code",
   "execution_count": 148,
   "id": "a991abcd",
   "metadata": {},
   "outputs": [
    {
     "data": {
      "text/plain": [
       "lasso         0.086903\n",
       "ridge         0.087273\n",
       "rf            0.088321\n",
       "arima         0.138128\n",
       "ha_rmse       0.210178\n",
       "ma_rmse_12    0.200832\n",
       "ma_rmse_3     0.133009\n",
       "ma_rmse_6     0.165913\n",
       "tot           1.000000\n",
       "dtype: float64"
      ]
     },
     "execution_count": 148,
     "metadata": {},
     "output_type": "execute_result"
    }
   ],
   "source": [
    "new_df[new_df.index.isin(big_sno)].mean()"
   ]
  },
  {
   "cell_type": "code",
   "execution_count": 149,
   "id": "88d4ffbc",
   "metadata": {},
   "outputs": [
    {
     "data": {
      "text/plain": [
       "lasso         0.097854\n",
       "ridge         0.098015\n",
       "rf            0.098980\n",
       "arima         0.150205\n",
       "ha_rmse       0.199885\n",
       "ma_rmse_12    0.197860\n",
       "ma_rmse_3     0.140277\n",
       "ma_rmse_6     0.167828\n",
       "tot           1.000000\n",
       "dtype: float64"
      ]
     },
     "execution_count": 149,
     "metadata": {},
     "output_type": "execute_result"
    }
   ],
   "source": [
    "new_df.mean()"
   ]
  },
  {
   "cell_type": "code",
   "execution_count": 106,
   "id": "72da56a0",
   "metadata": {},
   "outputs": [],
   "source": [
    "nnn_df = pd.read_csv(\"D:/git/youbike_prediction/ppppppercenage.csv\")"
   ]
  },
  {
   "cell_type": "code",
   "execution_count": 108,
   "id": "344fd612",
   "metadata": {},
   "outputs": [],
   "source": [
    "nnn_df = nnn_df.set_index(['Unnamed: 0'])"
   ]
  },
  {
   "cell_type": "code",
   "execution_count": 112,
   "id": "928a0af1",
   "metadata": {},
   "outputs": [],
   "source": [
    "nnn_df.index.names = ['sno']"
   ]
  },
  {
   "cell_type": "code",
   "execution_count": 113,
   "id": "8cf68dcf",
   "metadata": {},
   "outputs": [
    {
     "data": {
      "text/html": [
       "<div>\n",
       "<style scoped>\n",
       "    .dataframe tbody tr th:only-of-type {\n",
       "        vertical-align: middle;\n",
       "    }\n",
       "\n",
       "    .dataframe tbody tr th {\n",
       "        vertical-align: top;\n",
       "    }\n",
       "\n",
       "    .dataframe thead th {\n",
       "        text-align: right;\n",
       "    }\n",
       "</style>\n",
       "<table border=\"1\" class=\"dataframe\">\n",
       "  <thead>\n",
       "    <tr style=\"text-align: right;\">\n",
       "      <th></th>\n",
       "      <th>Lasso</th>\n",
       "      <th>Ridge</th>\n",
       "      <th>Random Forest</th>\n",
       "    </tr>\n",
       "    <tr>\n",
       "      <th>sno</th>\n",
       "      <th></th>\n",
       "      <th></th>\n",
       "      <th></th>\n",
       "    </tr>\n",
       "  </thead>\n",
       "  <tbody>\n",
       "    <tr>\n",
       "      <th>1</th>\n",
       "      <td>0.062110</td>\n",
       "      <td>0.063076</td>\n",
       "      <td>0.063098</td>\n",
       "    </tr>\n",
       "    <tr>\n",
       "      <th>2</th>\n",
       "      <td>0.122668</td>\n",
       "      <td>0.123386</td>\n",
       "      <td>0.126653</td>\n",
       "    </tr>\n",
       "    <tr>\n",
       "      <th>3</th>\n",
       "      <td>0.120841</td>\n",
       "      <td>0.121282</td>\n",
       "      <td>0.123212</td>\n",
       "    </tr>\n",
       "    <tr>\n",
       "      <th>4</th>\n",
       "      <td>0.061589</td>\n",
       "      <td>0.061612</td>\n",
       "      <td>0.063145</td>\n",
       "    </tr>\n",
       "    <tr>\n",
       "      <th>5</th>\n",
       "      <td>0.117189</td>\n",
       "      <td>0.116701</td>\n",
       "      <td>0.118196</td>\n",
       "    </tr>\n",
       "    <tr>\n",
       "      <th>...</th>\n",
       "      <td>...</td>\n",
       "      <td>...</td>\n",
       "      <td>...</td>\n",
       "    </tr>\n",
       "    <tr>\n",
       "      <th>400</th>\n",
       "      <td>0.104254</td>\n",
       "      <td>0.105307</td>\n",
       "      <td>0.106302</td>\n",
       "    </tr>\n",
       "    <tr>\n",
       "      <th>401</th>\n",
       "      <td>0.120237</td>\n",
       "      <td>0.121010</td>\n",
       "      <td>0.121515</td>\n",
       "    </tr>\n",
       "    <tr>\n",
       "      <th>402</th>\n",
       "      <td>0.049876</td>\n",
       "      <td>0.049789</td>\n",
       "      <td>0.051779</td>\n",
       "    </tr>\n",
       "    <tr>\n",
       "      <th>403</th>\n",
       "      <td>0.129633</td>\n",
       "      <td>0.130639</td>\n",
       "      <td>0.129391</td>\n",
       "    </tr>\n",
       "    <tr>\n",
       "      <th>404</th>\n",
       "      <td>0.111946</td>\n",
       "      <td>0.110742</td>\n",
       "      <td>0.110514</td>\n",
       "    </tr>\n",
       "  </tbody>\n",
       "</table>\n",
       "<p>366 rows × 3 columns</p>\n",
       "</div>"
      ],
      "text/plain": [
       "       Lasso     Ridge   Random Forest \n",
       "sno                                    \n",
       "1    0.062110  0.063076        0.063098\n",
       "2    0.122668  0.123386        0.126653\n",
       "3    0.120841  0.121282        0.123212\n",
       "4    0.061589  0.061612        0.063145\n",
       "5    0.117189  0.116701        0.118196\n",
       "..        ...       ...             ...\n",
       "400  0.104254  0.105307        0.106302\n",
       "401  0.120237  0.121010        0.121515\n",
       "402  0.049876  0.049789        0.051779\n",
       "403  0.129633  0.130639        0.129391\n",
       "404  0.111946  0.110742        0.110514\n",
       "\n",
       "[366 rows x 3 columns]"
      ]
     },
     "execution_count": 113,
     "metadata": {},
     "output_type": "execute_result"
    }
   ],
   "source": [
    "nnn_df"
   ]
  },
  {
   "cell_type": "code",
   "execution_count": 116,
   "id": "5c5c34cc",
   "metadata": {},
   "outputs": [],
   "source": [
    "hah=new_df.join(nnn_df,on='sno')"
   ]
  },
  {
   "cell_type": "code",
   "execution_count": 118,
   "id": "956e7ca4",
   "metadata": {},
   "outputs": [],
   "source": [
    "hah = hah.drop(columns=['lasso', 'ridge', 'rf'])"
   ]
  },
  {
   "cell_type": "code",
   "execution_count": 120,
   "id": "5f98f955",
   "metadata": {},
   "outputs": [],
   "source": [
    "hah.to_csv(\"final_result_rmse_percentage.csv\")"
   ]
  },
  {
   "cell_type": "code",
   "execution_count": 121,
   "id": "d55cd96c",
   "metadata": {},
   "outputs": [
    {
     "data": {
      "text/plain": [
       "arima             0.149933\n",
       "ha_rmse           0.199885\n",
       "ma_rmse_12        0.197860\n",
       "ma_rmse_3         0.140277\n",
       "ma_rmse_6         0.167828\n",
       "tot               1.000000\n",
       "Lasso             0.098486\n",
       "Ridge             0.098660\n",
       "Random Forest     0.099676\n",
       "dtype: float64"
      ]
     },
     "execution_count": 121,
     "metadata": {},
     "output_type": "execute_result"
    }
   ],
   "source": [
    "hah.mean()"
   ]
  },
  {
   "cell_type": "code",
   "execution_count": null,
   "id": "bed44228",
   "metadata": {},
   "outputs": [],
   "source": []
  }
 ],
 "metadata": {
  "kernelspec": {
   "display_name": "Python 3 (ipykernel)",
   "language": "python",
   "name": "python3"
  },
  "language_info": {
   "codemirror_mode": {
    "name": "ipython",
    "version": 3
   },
   "file_extension": ".py",
   "mimetype": "text/x-python",
   "name": "python",
   "nbconvert_exporter": "python",
   "pygments_lexer": "ipython3",
   "version": "3.8.10"
  }
 },
 "nbformat": 4,
 "nbformat_minor": 5
}
